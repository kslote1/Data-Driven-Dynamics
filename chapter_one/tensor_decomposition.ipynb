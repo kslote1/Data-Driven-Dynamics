{
  "nbformat": 4,
  "nbformat_minor": 0,
  "metadata": {
    "colab": {
      "provenance": [],
      "authorship_tag": "ABX9TyNyAijmcznfyD/Q8mK2maJi",
      "include_colab_link": true
    },
    "kernelspec": {
      "name": "python3",
      "display_name": "Python 3"
    },
    "language_info": {
      "name": "python"
    }
  },
  "cells": [
    {
      "cell_type": "markdown",
      "metadata": {
        "id": "view-in-github",
        "colab_type": "text"
      },
      "source": [
        "<a href=\"https://colab.research.google.com/github/kslote1/Data-Driven-Dynamics/blob/main/chapter_one/tensor_decomposition.ipynb\" target=\"_parent\"><img src=\"https://colab.research.google.com/assets/colab-badge.svg\" alt=\"Open In Colab\"/></a>"
      ]
    },
    {
      "cell_type": "markdown",
      "source": [
        "# Tensor Decomposition\n",
        "\n",
        "[Tensor Demo](https://github.com/mohammadbashiri/tensor-decomposition-in-python)"
      ],
      "metadata": {
        "id": "Bv7ClTVehQqW"
      }
    },
    {
      "cell_type": "code",
      "execution_count": 4,
      "metadata": {
        "id": "NyeTIjtIevK0"
      },
      "outputs": [],
      "source": [
        "import numpy as np\n",
        "import requests\n",
        "import io\n",
        "\n",
        "\n",
        "\n",
        "response = requests.get(\"https://raw.githubusercontent.com/mohammadbashiri/tensor-decomposition-in-python/master/data/time_factor.npy\")\n",
        "time_factor = np.load(io.BytesIO(response.content))\n",
        "\n",
        "response = requests.get(\"https://raw.githubusercontent.com/mohammadbashiri/tensor-decomposition-in-python/master/data/neuron_factor.npy\")\n",
        "neuron_factor = np.load(io.BytesIO(response.content))\n",
        "\n",
        "response = requests.get(\"https://raw.githubusercontent.com/mohammadbashiri/tensor-decomposition-in-python/master/data/trial_factor.npy\")\n",
        "trial_factor = np.load(io.BytesIO(response.content))\n",
        "\n",
        "response = requests.get(\"https://raw.githubusercontent.com/mohammadbashiri/tensor-decomposition-in-python/master/data/latent.npy\")\n",
        "latent = np.load(io.BytesIO(response.content))\n",
        "\n",
        "response = requests.get(\"https://raw.githubusercontent.com/mohammadbashiri/tensor-decomposition-in-python/master/data/observed.npy\")\n",
        "observed = np.load(io.BytesIO(response.content))\n"
      ]
    },
    {
      "cell_type": "markdown",
      "source": [],
      "metadata": {
        "id": "iYKyzL8LgwjX"
      }
    },
    {
      "cell_type": "code",
      "source": [],
      "metadata": {
        "id": "V_HhzVw8iVME"
      },
      "execution_count": null,
      "outputs": []
    }
  ]
}